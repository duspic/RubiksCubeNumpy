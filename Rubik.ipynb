{
  "nbformat": 4,
  "nbformat_minor": 0,
  "metadata": {
    "colab": {
      "name": "Rubik.ipynb",
      "provenance": [],
      "collapsed_sections": [],
      "include_colab_link": true
    },
    "kernelspec": {
      "name": "python3",
      "display_name": "Python 3"
    },
    "language_info": {
      "name": "python"
    }
  },
  "cells": [
    {
      "cell_type": "markdown",
      "metadata": {
        "id": "view-in-github",
        "colab_type": "text"
      },
      "source": [
        "<a href=\"https://colab.research.google.com/github/duspic/RubiksCubeNumpy/blob/main/Rubik.ipynb\" target=\"_parent\"><img src=\"https://colab.research.google.com/assets/colab-badge.svg\" alt=\"Open In Colab\"/></a>"
      ]
    },
    {
      "cell_type": "code",
      "execution_count": 1,
      "metadata": {
        "id": "Nr-yipUkaWcf"
      },
      "outputs": [],
      "source": [
        "# Make a Rubik's cube representation in tensors"
      ]
    },
    {
      "cell_type": "code",
      "source": [
        "import numpy as np"
      ],
      "metadata": {
        "id": "yH4rOcvTacG7"
      },
      "execution_count": 2,
      "outputs": []
    },
    {
      "cell_type": "markdown",
      "source": [
        "![800px-Rubik's_cube_colors.svg.png](data:image/png;base64,iVBORw0KGgoAAAANSUhEUgAAAyAAAAJYCAYAAACadoJwAAAABGdBTUEAALGPC/xhBQAAACBjSFJNAAB6JgAAgIQAAPoAAACA6AAAdTAAAOpgAAA6mAAAF3CculE8AAAABmJLR0QA/wD/AP+gvaeTAAAAB3RJTUUH4gcFDDcR4QtFqQAAO7FJREFUeNrt3XeUJGdhLvynJ+3M5tXmqF1JCGUhCSQkEDlckBFBYGOMTbIB84EJNuZi+xqba8AYY4LxxZbBXIMNJiPEJSgghIQEEsoRhQ3S5pwnd31/9MDVJ+1M16x2PzHVv985fRbOvq1z3merqt+nq6orAcroTvKWJJcn2ZiknqSo6KueZEOSy5K8Ocmkh+RQS/LSJF9NsjbJQIVzKJJsT3Jdkr9MMvdh28RZSS5Mcm+S/RXPYW+SO5J8IskJDgcAAIfXU5M8UPEF5livVUnOTrI0ybUtnMOuJK9LMjnJ5yteQsd6DSX5+yQdDg0AAIfe85P0t/Ci+5ev/iTb5PCrQiaH5OtJ2hwiABivdhHAqBYn+WGSKaJIe5IeMSRJZoogSXL8SDG9WhQAjEdNBDCqf0nyRjHAqPYmWZFkqygAKMvpcziwriSvFAOMaWqSl4kBgPFwEyEc2ClJpjcbdPrpp+fEE09MT8/Evjqpt7c3t99+e2666aaDev+KFSty1llnZfr06RM6h4GBgaxevTpXX311hoaGxv3+I444Iueee27mz58/oXOo1+vZsGFDrrzyyuzdu7fZ8HPT+DUwAAAehd/IGDfgLl26tLj66quLqvnRj35ULF68uPSNyD09PcXnPve5ol6vVyqH++67rzj77LPHdVP2n/7pnxb79++vVA47duwoXvva1zab+2UOFwAAj94FYy2677rrrqKqbrvttmLSpEmlFt1f/OIXK5vDrl27iqOPPrpUDm9729sqm0O9Xi9e/OIXjzX/qxwuAAAOYwF585vfXFTdG97whqaL7lNPPbXyOXz2s59tmkNXV1exffv2Sudw1113KSAAHDJuQodxetrTnlb5OT796U9vOubcc8/1b53kpJNOyqxZsyqdw3HHHZd58+bZ+QFQQOCxMG3atMrPsczN5BP9hvMyZsyYIYdxZAEACggAAKCAAAAACggAAIACAgAAKCAAAAAKCAAAoIAAAAAKCAAAgAICAAAoIAAAAAoIAACggAAAACggAACAAgIAACggAAAACggAAKCAAAAAKCAAAIACAgAAKCAAAAAKCAAAoIAAAAAoIAAAgAICAAAoIAAAAAoIAACggAAAACggAACAAgIAACggAAAACggAAKCAAAAAKCAAAIACAgAAKCAAAAAKCAAAoIAAAAAoIAAAgAICAACggAAAAAoIAACggAAAACggAACAAgIAAKCAAAAACggAAKCAAAAAKCDwWKjX6+aYZHh4uPI5lJljK+TQSvMEQAGBXzsPPvhg5ee4Zs0aOSR54IEH5JBkYGAgGzZssPMDoIDAY+FLX/pSpedXFEW++MUvNh333e9+Nzt37qx0Fv/5n//ZdMzq1atz7bXXVjqHb37zm+nt7bXzAwAcRi9LUoz2+vCHP1xU1d/8zd8UY839oa+Xv/zlxeDgYCVz+MEPflB0dnaWyuGEE04otmzZUskcVq5cWSxcuHCs+V/lcAEA8Og9u9mi85WvfGVx9dVXF7t3757wi8zdu3cXV111VfHyl7+8dPn45euss84qLr744koswHt7e4tbb721ePe73126fPzytWzZsuIzn/lM8eCDDxbDw8MTOofBwcFi5cqVxcc//vFizpw5zeZ+kcMFAONREwEc0IokK8UATX0iyTvEAEBZ7gGBA1uV5E4xQFP/RwQAKCBwaPy9CGBMtyS5XAwAjEe7CGBUtyU5J8lRooBH6EvjxxrWiQKA8XAGBEY3nOR9SQZFkYEkO8WQIslqMSRJLk5yvRgAGC9nQGB005NckmS2KNKepFsMqSWZKYYkyYlJ7kvjTCEAlOYMCIzuT9L4NSzgwD6SZIoYAFBA4NDsG38gBhjTwiQvEgMA49EhAjigE5MsaDZo6tSpOeqoo9LZ2TmhJzs4OJj7778/+/btO7gDSUdHjj322PT09EzoHIqiyJo1a7Jt27aD/m8cffTRmTlz5oTfATZv3pwHH3ywzNDnJPkvhwwAgEfnBRnj6c9TpkwpPv3pTxd9fX1FVfT29haf+tSnip6entJP/67VasW73vWuYtu2bZXJYXh4uPjOd75TLF26dFxPQj/vvPOKe++9t6iSm266qTjnnHOazf0HDhcAAI/eBaMtuNra2orLL7+8qKrvf//7Ra1WK7Xo/uAHP1jZHFavXl3Mnj27VA7nn39+MTw8XMkcent7izPPPHOs+V/lcAEAcBgLyG/+5m8WVffSl7606aJ7+fLlxeDgYKVz+MhHPtI0h7a2tmL16tWVzuHqq69WQAA4ZNyEDuP0ghe8oPJzfOELX9h0zPOe97x0dHS0fA4nnHBCjjzyyErncM4551TivhYAFBCYkObMmVP5Oc6dO7fpmNmzZ/u3bpEcarVaS2z3ACggwK/5otQcWyOHVponAAoIAACggAAAACggAACAAgIAAKCAAAAACggAAKCAAAAAKCAAAIACAgAAoIAAAAAKCAAAoIAAAAAoIAAAgAICAACggAAAAAoIAACggAAAACggAACAAgIAAKCAAAAACggAAKCAAAAAKCAAAIACAgAAoIAAAAAKCAAAoIAAAAAoIAAAgAICAACggAAAAAoIAACggIgAAABQQAAAAAUEAABAAQEAABQQAAAABQQAAFBAAAAABQQAAEABAQAAFBAAAAAFBAAAUEAAAAAFBAAAQAEBAAAUEAAAAAUEDpmiKMxRDi2VQyvNEwAFBH7tbN68ufJz3LRpkxzk8Cv1er0l5gmAAgK/li6++OLKz/Giiy5qOub73/9+BgYGWj6Hu+++O/fcc0+lc/jRj36U3bt32/kBAA6jC5IUB3rVarXiW9/6VlFVX/3qV4vR5v7w13ve857K5nDXXXcV06dPL5XDs5/97GJgYKCSOezevbs4+eSTx5r/VQ4XAACP3vPHWnB2dXUVH/jAB4odO3ZUZqG5ffv24v3vf3/R2dlZuoAkKV772tcWq1evrkwOvb29xec///lizpw548rhqU99anHddddVJofh4eHi8ssvb1Y+iiTfc7gAYDxqIoADOiHJHc0GdXR0ZNGiReno6JjQkx0cHMyGDRsyNDR00P+NRYsWpbu7e0LnUBRFNmzYkL6+voP+b8yePTszZsyY8DvAtm3bsmvXrjJDL0zyJocMABQQePT7xpokS0UBY7ogyTfEAEBZbkKHAyuSfFoMMKY1Sb4rBgDGwxkQGN3kJNencTkW8MiS/tIkF4kCgPFwBgRGtz/J65MMiCIDSXaIIUWS+8WQJPkv5QOAg+EMCIyuM8mVSc4WBTzCYJLnJPmxKAAYD2dAYHRvUj5gzIJ+YZIOUQCggMCh8XYRwJgen+R5YgBAAYFH75iRFzC2F4gAAAUEHr0VY/1lrVbLW97yltx5552p1+spimJCv+r1eu6444686U1vSq02vlvDnv/85+cnP/lJBgYGJnwORVFk7dq1+dCHPpTJkyePK4fjjz8+3/zmN7Nv375K5LBz5858/vOfz9KlSx/VvgIAQDkXpPGLRwd8XXjhhUVVfepTnyrGmvtDX6973euKer1eyRyuueaaoru7u1QOZ5xxRrF79+5K5rBhw4Zi+fLlY83/KocLAIDDWECe9axnFVV37rnnNl10z5kzp9izZ0+lc3jPe95TqoDceOONlc7hW9/6lgICwCHjEiwYp1e84hXmmOQFL3hBpk6d2vI5HHPMMTnttNMqncN5552XKVOm2PkBUEDgsbB48eLKz3HJkiVyKJnDokWLKp9DR0dHFixYYOcHQAGBx8J4b9KekAeGtrZDMkYOrZUFACggAACAAgIAACggAAAACggAAKCAAAAAKCAAAIACAgAAKCAAAAAKCAAAoIAAAAAoIAAAgAICAACggAAAAAoIAACggAAAACggAACAAgIAAKCAAAAACggAAKCAAAAAKCAAAIACAgAAoIAAAAAKCAAAoIAAAAAoIAAAgAICAACggAAAAAoIAACggAAAACggAACAAgIAAKCAAAAACggAAKCAAAAAKCAAAIACAgAAoIAAAAAKCAAAgAICAAAoIAAAgAICAACggAAAAAoIAACAAgIAACggAACAAgLwCEVRCAEAUEDgcNu1a1fl57hjxw45lMxh586dLbHdl8kCABQQOAx++MMfVn6Ol19+edMxV1xxReXPgpTJ4fbbb8/mzZsrncMtt9ySrVu32vkBAA6jC5IUB3p1dXUVN954Y1FV1113XdHR0VGMNv+Hvi688MLK5rBly5ZiyZIlpXJ47WtfW9kchoaGiuc+97ljzf8qhwsAgEfvvLEWnHPnzi2+/e1vV26x+Y1vfKOYPXt2qUV3kqKzs7P46Ec/WgwMDFQqh5tuuqk46aSTSueQpPj93//9Yvv27ZXKYd26dcWLX/ziZnO/1OECgPGoiQAO6LQkNzYbtGLFipx00knp7u6e0JPt6+vLbbfdltWrVx/U+2fPnp0nPelJmTZt2oTOYXBwMKtWrcott9xyUO/v6enJmWeemXnz5k3oHIqiyPr163P99ddncHCw2fB/T/JahwwAFBB4dNqTbEoyWxQwptcl+d9iAODRFpClSZ6aZEGSrgrPf0+SlUmuTNJ7gL+fmeTpSZYlmVzhHPqSrB3J4UB3mk4a2R6OGcmkqgZHSsdPk9yf5ONJ3u4wAaPakeToJP0jx8oVSaZVeL4DSTYkuXrkmPlw7UnOTvL4JHMqnMNwks1Jbkpy2yhjTkpyepJ5I7lU1dYk9yS5ZiSXh1uc5NyR9dSkCuew9yHrqf0H+PsZI8eII1tgPbVuJIctB/j7roesp2ZVOIehkfXUz5LcW+YNT0xyeZJ6xnHtcwVe+5L8/UMW10vSuKxgoMVyGEry1ZEdI0mmJHl/kp0tlkOR5Nok54/sQIWXl9cBX+9J8rGRBUcrzbuexr0vp48cKzuTvCPJxhbcBu5I8pKHrCNenOT2FsxhU5J3jmwLSeMy3ktacD21f+TLuyNGcliU5LMjX1K02nrqG0mOHcmhJ8lfjnxp02r7xnVJnjVW+XhjCy64H/66N8nvjLTWVs5hd5LXJLmlxXMYTvKZkTMjrb7QHBzZLiy6G998y6HxDd/KFs+gP8nbRr64a/Xt4Z+S/KMcckWSt7bggvvhr1VJXtWipfyhrz1pXKZ6Q4vnUE/yvoeWjl9egvXyJF+Je0IyEpLnozQ2GNsD2DccK8ExwjHC9nAovDONM2SppXHZ0X1xsy0AAHB4DCQ5Icn9bUnerHwAAACHUVcaZ0HSlsaNtgAAAIfT+UnjEqztGeunwGZ2J89bnhx7RDK5Y2JPuV4kO/qS6zYmP1nb+P+lO1t78qxlyanzkhkV+CW93QPJHVuTy1YnvUPl31dLctai5MmLktk9SfsEv6yxbyi5f2dyyepky/5xvfWkjmk5v3telrV3Z1JtYl/m2l/Us2a4Nxf1bc6dQ3vH9d5F7ZPysu4FOb5jSibXJvavbQ4VRTbVB3JZ/9ZcObA94zhCZGqtPS/tnp/TO2dkZtvEPlYWSbbVB/PTgZ25uH9zBor6OI4R7cmS5yTzz0m6ZycTfN/I4N5k+x3Jmm8n/TvG9965ZyRLnptMXpi0dU7sHIb7kt2rkjUXJ3tWj++9045Mjjw/mb4iaZ/YD21NfTDZvyFZe1my5efjeuuC7uSPj0ueMS85YoI/4GC4SNb2Jl99IPnMymRwHIeInvbkLY9LXrw4Wdgz8W8S2dyfXLox+dgvkh0D41tOvfLI5PeWJ8unJF0TPIg9Q8lPtyYf/UVy754SH5lp3CR04FXk0mnJu56UTK3go0Bu35p86obGXtTM5M7kT85s5FE1m/cnH/lZsrO/xN5SS95wSnLWwurl0DeUfPKG5N5yC4yXdM/PGycvrdxdZUWS/7XvgXynf3Op8ad0TstfTX1cemrVu8/w8v5t+ei+VaVKyJy2rnxk+uOzoK16P/N/39D+/Pc9v8i+Yrj54LbO5LT3JrNPrd4xYmBX8vO/SvY+UG78416drHhp9XKoDyW3fSLZdE258fOfnJz8zmSCl/IDWv2t5J4vlBp64ozk8mcm87urF8Nlm5LfuDLpL1FCpnc2cnjiEdXLYdW+5OmXJw+W+C6zluRzZyWvWVG9HPYNJedflfxw05jDlrWNWj7aaskfnFrN8pEkJ81Jnl/yX/63jqtm+UiSeZOT3z2p3NinLqlm+UiS7o7kjacmnc2/wT+qfXIly8cvD4p/OGVplrX3NI+s1pb/PuWoSpaPJHn2pNl57qRyz5J7x5TllSwfSXJMx+T8/uQl5QaveGk1y0eSdM1ITn5H44uYZmafWs3ykTSKxElvTSaVeIZa18zkpLdVs3wkyfKXJHNOK3Vc/eLZ1SwfSfKc+cl7Tyg39u9OrWb5SJIVU5LPnllu7O+tqGb5SJIpHY3tferYu/0YK4ejZiYLp6bSnlriQ7WzPXnSwmrncPLcZHqJovmUxdXOYWZ3o5iWWJhW+ff02lLLcyY1/12KJ3bOyKyJfllJE2UKyOy2zpzeOb3SOTyza3Y6y2z1i55V7WPEtCOT6cc0H7e44jm0T0oWPKX5uAVnT/xLrg7BNn/GEckpM6sdw+uPKrGcaktevbzaOTx3QbK0xHPeX7ei2jnM707OW9RsrTGauT2pvDk9jTM9Yy5KJzX2miqrJZlbYo8pM2aiK7HdL6zoN93jnWMr5LCoxBwXtE2q/A+8T6q1ZXZbky8pau1Jz5zqHyN65h+aMRM+hwWHZsxEN7n5HI+aWv0Ylk5OJrU1X5RO6ah+FseU+PduhW3i6KkHW0DaWuCZKbVa80fDtLfIs2PaS5SsVtgmSuTQEjGUWFK316ofRJk5tkIOpeZZG/2K3kopczlRrQWevVZmji2RQ/PLdjtaZBnR0SaHMjm0ShbNvrv3hEoAAOD/NwoIAACggAAAAAoIAACAAgIAACggAAAACggAAKCAAAAACggAAIACAgAAKCAAAAAKCAAAoIAAAAAKCAAAgAICAAAoIAAAAAoIAACggAAAAAoIAACAAgIAACggAAAACggAAKCAAAAACggAAIACAgAAKCAAAAAKCAAAoIAAAAAKCAAAgAICAAAoIAAAAAoIAACggAAAACggAACAAgIAACggAAAACggAAKCAAAAAKCAAAIACAgAAKCAAAAAKCAAAoIAAAAAoIAAAgAICAAAoIAAAAAoIAABQxQLSP1z92Q/Vk3ox9phWyCFJ+oeajxkYlkOS/qJe+Rj60nyOfa2QQzEsh7JZFENJ0QLHiOG+EmMGWiCH/kMzpgW2h31DLRBDkfQ12f33t8hyqsy/dytksXfoYAvI6l1JUfF0Vu5sPsedfY1XpVcWQ8n6vc3HrdpZ/T1m5a6mQ34xtK/yMdw9tFcOSe4uMcc1w72VLyGb6wPZXh9sUkCKZNd91d4gys5x1z3VP1aWmePu++SQ5Ofbm3/XOdFdv71RQsY8jvQlqyr+sbF/OLmlxFLpZ9uqv2s0m+PoBWRrb3Ltump/kHzn/hLjklx8f7W3ku+tTAbr5cYNVXihdeuWRvFu4gf9W7OtXt1vODfXB3Jp/9am4+4a2psbB3dXNofBFPlK78am4/qLer7Wt7HSh4j/7F1f7vuolV9Npb+5WndZ0td838gD302qXND3rE42X1fiYHJ9smdVdXMY2p+s+U7zzaY3+czKCi+nkrz/9nJj//r2VNrf313uDMiH70r6K7ycumxTcvWWsce0J/nzkT8f6c5tybzJyeJp1Uqmfzj5wh3JTZvKjV8zssg6ZlbSVqtWCbtsTXJRyW+pdvU3zpScOCfpbK/WNnH71uQzt5YqYoMpcuPg7pzWOT3T2zoqFcODw335q733Zluzb7tHXD+4K0d3TM7C9knVWl8VQ/nw3lW5fWhPqfF3DO3N1FpHHt8xJRU6QmQoRb7Quz4X9W0u94b9G5O+bcnsU5KK7RvZ8OPkrn8td5nZ0P5kx53JnNOSjp5q5bDrvuTmD5csWEWy9YZk5nFJ9+yKrSO2Jzf/XbL3gdILsuVTklNmViuG/cPJW29Ivlwuhtyys7EEe9q8pL1CB8t6kfzTfcl7byn3FcymvuSmHcnzFySTK3aovGxT8sprkt6xD5UfqSV5MMmSMYctm54ce0QyvSsT+tN1sN44s3PblmTPQXyDPbsnOWlOMqt7Yu859TQuK7tja7J5//jfP7kzOWVuo5x2TvDfMdgzkNy/s/Eap47UckbnjKzo6Mnk2sQuZPuL4awa2p8bBndn6CC+wT6hY2qO75iSGW2dEzqHgaKedcP9uW5wZ/YdxP0MS9q7c3rn9Myqdaa9NnGPEUNFka31gVw/uCtbDuZsX9eMZO4ZSfe8iV9E+nc0ysTBfJPfPqlRQqYuTdomeEkf2pfsXplsv7Xx5dV41GrJEScn045KOqdO8JVmf7J3bbL1xoO6x+XUmckz5iULeib2cmqgnqzel/yf9Y3F9HgtnZy8YGHjz4m8jKgXyfrexqL77oO4IGBGZ3LeouRx05KeCf697pb+xmVXzc58JBlO0l1L8rUkFwQAAODw+VmSJ7cl+aIsAACAw+xLSeMMYC3JNUmeLBMAAOAwuD/JSUn62tK4X+a3kmyXS5JkhwiSJLtFkCQZEEEycpyQhX3DsfKR9okgSeO67roYbBMPsVMEPjMeoi+NWz76kv/7M7xzk/TIJkkyWQSJ7eFXOkWQpHGmVBb2jYeaIoIkSbcIkjR+TbNNDEmSSSJwrJTDI3QlOfKhi4pJSe5KskI2AADAYbAjyTFJtrcleY3yAQAAHEazkrwzaZwufbk8AACAw+zlSeMSrE1J5o06rKMtOWth40GEXRV4+vWOvuSGjQf14LmcNDc5dW4ytWvi59A72Hj6902bx/9QqaXTkzMXJnMqcFnj4HBjW7h2fTIwvgfPzW7ryvMmzc7S9p50TPDnXw+lyAPDvbmkf2u2l3wK+i9119rynK45Oa5jSrpqE/sS8CJFNtUH8qP+7Vk5PL6HdNaSPKVrVs7onJ4ptYn/aNtdxWB+OrAzNwwexP2TM49L5p+ddB8x8Y8RQ33JjjuSDVeVewr6Q01ekCx6ZuPPCb5vpD6U7FmdrLs8Gdw7vvd2Tk0WPyuZtmLiP5iyqCf7Nybrr2j8OZ4Y2pLfXpY8Y34ytQJPv17fm3ztwVIPnnuE5y1Izl+czKvAHVS7BpJLNiZfX9t4MOF4nDIzedWRyYopjed1TmR9w40HEf77qmTvUJOP2mRyLY1frjjwkXHmpOQdT0wWT6te/7p0dfKVu8uNba8lb3xCcvr86uVw17bkn25M+kt+sL7wqOQlx2aCr7cfacv+5OM/L/1k+DM7Z+S9U49Od61a91z2FsP5wN77Sy86F7d35wPTHpf5bdW657JI8m/71+ZrfeUWGD21tvzV1MfllM7qHSt/PLA9f7d3VYZT5pO1lhz3+mTZC6t3rNyzKrnhb5KBneXGL3pGcsIfTvwF98MN7E5u+mCy695y42cck5z2Z0nXjGrlUAwnd3y6UURKmNedfP/pyWmzqrdrfOre5I9uSKkjREct+cLZySuXVS+HKzcnL/pxsmeo3Pg/OS758KlJW8XWU2v2Jf/tyqZPhl/SnuSvR/3rt56RrJiZSjp6ZrK9N3lwT/OxLzk2edrSauYwd3LjjM6tJb7COGVu8pqTq1c+kmRKZ+Ms31Vrmx5F57V15cPTj6tc+UiSzlpbzu6amcsGtqW3GPsXNdtTy99Nf3wWt1fvR4BqSU7rnJ67h/ZmQ72/6fg/mnJkzumaVclDxJHtPSmS3DpU4li55LnJMb9dzWPlpFnJtOXJhiubj522Ijn9z6pXPpKkfVIy94xk3aWNsyJjju1OzvxAI7vKHSTaGjlsvSHpb/6L1F9/SvLUudXcNc6cnWzoS24o8TCH/3FS8tbHVTOH5VOSRT3Jt9Y1H/u8Bcm/P7l65SNJZnYlz56f/Mt9Y/4u9ydGX0EtnZY8/ohU2rOXlzjY1pJnLK12Dk9ZkvR0HJq8JrKS2/zzJ82tZPn4pZ5ae54/aU7Tcad1Ts+y9ur+umAtyUu6m5/1nFbryLMmza70rnF+97y0lfnmYdl51T5GzD41mbqkRA7/Lam1VzeHSbOS+U9pPm7BOcmkCq8jau3J0hc0HXbc9OT5C6u9a7z92OZj2mrVLR+/9OrlyZwSFwT80bHV/C73l44vsc2PvopaNDWVt3hq84vuZnYnkyv++IP2WrJgarm8Kr9NNL+E5sj26v/s/5ElikUr5LC8RA5L2rvTXumPkkbJmtPW5DhYa0umLKn+MWJqiWtHpiytfg7T5FB2ezhxRvVjOG564x6XsczvLrc4n+jLqROmNx93UgtsE83mOPrm0tECzxNqqzV/bFJnizxXqcw829vkkKSjVqt+DCWeJ9ZZq/72UGaOnS2wPZTKotY+8e+iLPW5UeJHSKp46dUj/r075JAkbc2/oJzUAh+dtSRdbXJIkkklTn52tUAW3e0HW0AAAAAOdXcXAQAAoIAAAAAKCAAAgAICAAAoIAAAAAoIAACggAAAAAoIAACAAgIAACggAAAACggAAKCAAAAACggAAIACAgAAKCAAAAAKCAAAoIAAAAAKCAAAgAICAAAoIAAAAAoIAACggAAAAAoIAACAAgIAACggAAAACggAAKCAAAAACggAAIACAgAAKCAAAAAKCAAAoIAAAAAoIAAAgAICAAAoIAAAAAoIAACggAAAACggAACAAgIAACggAAAACggAAKCAAAAAKCAAAIACAgAAKCAAAAAKCAAAUMECMlSv/uzrRdJsmoP11tgSBoebj2mFbaLEv/dQUVQ/hjTPYbCo/vZQZo6DLbA9lMqiGE5aIYv6QIkxQ9XPoRiSQ5LUB5sO6W+Bj84iyUBdDknSV2I51QpZNMth9AKybm/101m3t/kH5s6+ZP9gtXMYLpKN+5qPW98K28SepkPWDPdWPobVJea4Wg5JkrXDfRlOtRfeu4uhbG220Crqyb611T9G7H3g0IyZ6PaskUPJOd6xq/ox3L27+fd3m/qSLf3VX07dtTu2iSS37TrYArJ2T3L39mqnc9nqclvTFRU/iF69Nukt8U3V5aurncODu5NfNN/mv9+/NX0V/vZ/fzGcH/RvbTrupsE9lS4hRZJv9m1qvg4rhnJ5/7ZK7xrf7tucepmSteY71T5GbLs52VuiZD34/cYZoarq355s/EnzcZuuaYyt7EFiOHngu6UW59/fUO1d42O/aD6mXiT/eE+1c/jC6mRriZL1iXtS6a+t7tydXNJkm29P8pdJagf+L2xNTpiTTJ9UvXR+sKrxKuPeHcnCqcmiqRXcSrYl//u2RtFq+mGyv3EZ1nFHJLVatXLYvD/51I3JvuZnu/YXw1k5vD9P7pqVzorlsL8Yzgf23p+VJYpFkeTmoT05s2tGptY6Klc+Prt/bX44UK5Y3DK0O8d1TM2C9uodK68c2J4L9z9Y7sNyz8qkc2oy49jqHSv3rEpu/kgyXGJ1MbAz6duczDk9qbVXK4eBXcnNf5v0bi63QN9xZzLvSUl7d7VyqA8ld366UUpLuHRT8uz5ycKe6u0an7wn+eCd5cZeszU5Zlpy8szq5XDF5uQ1P21+KVqSrNyb7B1KnjO/esupVfuS83/c9GzXR2tJNiaZP+qQjrbkzIXJsUckkypwIN3el/x8Y7Jq5/jfe+Kc5NR5ybSuCqw0B5PbtyY3bxp/DV8yLTlrYTJn8sTPYXA4uW9ncu36cvfBPMTsts48d9KcLGvvSUcm9hFkKEXWDPfmkv6t2VEf3yWHk2pteU7X7BzfMTVdtYn9uxZFimysD+SK/m3jPrtTS3J216w8sXN6JQrZjvpgfja4MzcO7h7/m2c+Ppl/dtI9e+IfI4b6kh23JxuuHv9ZjZ75yaJnJlMWJhN830h9KNm9Mll/RTI4zstxO6Yki5+VTD8qaZvg+0ZRT/ZvSNb/KNm/cVxv7WxLfmtZ8sx5ybTOib9rrN2ffPXB5Nqt43/vc+YnL16SzK9AL9050DjD9a11jbM843HSjOR3licrpiRtE7yI9A43toXPr0r2Dzf5qE16akkuSfLcAAAAHD53JTmhLclXZQEAABxmX0saVw10jbSRo2QCAAAcBtuTPC7J9rYkA0lekaRXLkmSfhEkI9sFSSGCX6mLwL7hWPkIQyLANuEYMYZBEfxqDfHakRLyq5/h3aaA/EqfCOTgwOFD1b4hB4V03IuLYTHYJh7CutKx8uH7xa9+x7w28ro2yVmyAQAADoNVSU5I0teW5GXKBwAAcBitSPKmpHEJ1u/IAwAAOMxelTQuv3owyZIxhy6fkTxuVtLeNvGnvXcguWVzsucgLtGc3ZOcPDfprsBTnweGG0+637hv/O+d3Nl4IOOMCjz1uV5PVu5K7tsx7rd2pJYndc3IkrZqPOH3geG+3DC4K0MHcd/9SR1T8/iOKWnLxH+k6/ZiMD8d2Jl9xfgvZ1/a3p3TOqdnUib+sXJ/MZzrB3dlc/0gjpWTZiZzzki6plfgGDGU7Lij8RC+8Wqf1Mhh8vyJn0NRT/asSbbfkhTjPEbUaskRpyTTlk/8BzImSe+mZMsNyfD477E+bVby9HnJpArEsG0g+c66ZONB3OGwbHLywkXJjAo8kHH/cHL5xuTOg3lma1fyG4uSxT0TP4ehIrl+W/LjLU2HDifprqVxU8iBN4Gu9uQNpySnV+Dg+VD9w8l/3ZVcvbb8e84/Jjnv6In/qMr/zwdKkfzwgeTLd5f/QDl9fvLak5OejmptE3duS/7l5sYT4ktY3t6Tv5x2TBa2TapUDOuG+/L+vffngZJPAZ9W68ifTz06p3ZOq1QOe4vh/MO+Vbl2YGep8W2p5c2Tl+Y3uuelQkeIDKXIl3rX54u9G8q/aclzk8e/rrH4rpKNP0lu/1RStpDNPD459Y+TSbOqlcPulcnNH076Sj7+untO8oQ/TaYfXbF1xI7k1n9IdtxZanhPe/JvZyWvXFatGHqHk3felPzLfeXf8+cnJO87qfFk+Mosp5L8833J225Ihksup85fnPzvs5JZXdXaJq7YnLziJ8m2sfv5ovYk7x/1r19zcnLmwlROR1ty6tzk/p3JlhILracvTV5xXONbnCqp1ZKjZjb2lntLnAFYPiN5+xMbxbRq5k5Olk5LftZ8oTWl1p6PTT8+89q6KhfD9LaOPLlrZr7fv7XUmZC/mnZMntA5vXI5dNXack7XrPxsYFd2FM1L6at7FuXlPQtSsSNE2lLLqZ3Ts7U+kPuH9zd/w5zTk1PembR1VO8YMXVZo0xsub7covvMD1TjDNDDTZrVOJux7rI0/ZXyWnvypPcn0yv4mLGOnmT+k5ONVydDzfeNTz8x+b0V1Yuhsy05b1Fy/fbk3j3Nx79uRfKJM5L2qi2nkjzpiMZ31Fdsbj7+1JnJJc9MplbwULliSnLGEcnnV4857JNtYy7InrwolVWrJb9xTMlxR6fS/tuKcl9FvOCo6h01HuqkuY2S1SyuSXMyu62zsjHMbevK8ybNbjru+I6pOa2C5eNXH6yp5bd6FjRfj9Xa8rLuBZU+RLyqZ1G5cnXUy0c+iitq0bMa5aKZZeclHZOrm8O0I5N5JX67Zt6TGpddVVXH5GTZbzQdtmRy8voKP+q5luQvTyw39n+cVO3l1B8fV65UvOf4alyGN5pnz0+eOnfsMaNP/8jplf4cadS0Gc3nOGtSMrO72jl0dySLpjYfV2JxPuEd1XyOx3ZMqXwMj++YWmJMK+TQfI7L23vSXWurdA7z2rpyRLPSXaslM46p9gZRdo4zHlf9Y2WZOU4/Rg5JzphVrau3D+SJRzT/fnJed+Pb8SrraU9Omdl83Jmzq79rnDX7YAvIpPbqp9PR1vyo0NUCOSTJpBKVvRWyKJHDpIovNpOku8RN1N2tkEOt3fZQNotaR+OSm6prL/GFVHtXC+Qw6dCMaYHtYUpHC8RQS7qb7P6TW2Q5VebfuxWyaHYmqDU+OQEAgF8LCggAAKCAAAAACggAAIACAgAAKCAAAAAKCAAAoIAAAAAKCAAAgAICAAAoIAAAAAoIAACggAAAAAoIAACAAgIAACggAAAACggAAKCAAAAACggAAIACAgAAKCAAAAAKCAAAoIAAAAAKCAAAgAICAAAoIAAAAAoIAACggAAAAAoIAACAAgIAACggAAAACggAAKCAAAAAKCAAAIACAgAAKCAAAAAKCAAAoIAAAAAoIAAAgAICAAAoIAAAAAoIAACggAAAACggAACAAgIAACggAAAACggAAFDFAlIvqj/7okiaTXO4aI0tYbjefEwrbBMlcmiJGNJ8ksNF9YMoM8dWyKHUPIt6khbIoj5U4rOlXv0cysyxJXIYbjpkqEWWEUN1OZTJoVWyGKwfbAHZvL/66Wztbb6a3NnfPMUqFLEtJf69t7TANlFiu99Q7698DGXm2Ao5rC8xx431/sovu/uLerbVB5ovxHq3VP8Y0buxxJhN1c9h/4ZDk9WEz6H5HO/fW/0YHtyf9DdZKm3qS/YOVT+L+0r8e6/cK4fRC8iqXcn6iid09doSFW44uW5DtXO4dUuye6D5uJ+srXYOO/qSO7Y1HXZZ/9ZKLziHU+TS/q1Nx10/uCvb64OV3iR+0N98Qb2tPpgbBndVOocfDmzLYJmtfv0Pq32M2LM62X1/83HrLq92DsN9yaafNB+38drG2Cpbd1nTITduT27eUe0YPruyxHKqnvzH6mrncMnGRhlr5t9WVjuHjX3Jd9c3LyAH/lSpF8m/3pLsGahmOrdtSX6wqtzYr9ydPLC7mjls3p984Y7yhe1n66uZQ+9QcuEtjcLZxKrh3vzL/gcqWUKKJJ/e90AeLLFo6C/q+du9K9Nb4hKEieiy/m25vH9bqbGf2LemsmeE7h3an8/sL/nlw6pvJttuqeYxYmBnctvHG2eMm7bSW5NVX69mDvWh5PZPJf07y2V2+z8mVf2iouT2XiT5nWsbi7IqunRj8qE7y419zy3J9durmcPKvcnvX1du7BdWJ59bVc0c9g4lr7qm6dmuopZkW5IjRh0yY1LyvBXJsbOSKZ0T/MBZJNv6kus3JNesG9/F/F3tyTOXJafMTWZ1T/wtZFd/csfW5PI1jcV3WbUkT1qYnL0omTM5aa9N/OJx/85GGd3WO663ntgxNS/qnpfl7T2ZVJvYv+fQX9Szarg33+7bnLuGxnfmc0HbpFzQMz/Hd0zNlFr7hM5hsCiysd6fy/q35aqB7eMqmVNq7XlJ9/yc3jk9R7RN7GNlvUi2FwO5dmBnvtO/JQPjuZa/1p4sflYy/5ykZ07j/0/o4rEn2XFHsvrbjQX1eMw5PVnynGTK4mSCbxMZ7kt23Z+s+U6yd8343jt1WXLki5LpRycdE/zzsz6Y7FufrL002XrjuN46vzt51+OTZ85PZndN8M2hSB7Yn3zlgca3+eO5p6G7PfnDY5IXL04WT574v4a0sa9Rwj5+T7JzHN/Z15K8YlnymuXJUVOTrgkexK7B5Kfbko/eXeqywym1JNckOTsAAACHz4NJlrUluUgWAADAYfbtpHEGaGaS+5LMlgkAAHAYDCQ5Icn9bUl2JnlTWuIH3EupiyCxPYB9w7HS9oBtwjHC9nAIvTvJ/cn/vffn6yMlZLDFg7k3ye8m2dLiOexO8rokt7R4DvUkn0kyHIaS7BVDkmSDCJIkP0myssUzGEjyR0kutznkn5L8oxhyRZK3jWwbrWxVklcn2djiOexN8vokNyhh+csknxxtwBlJLh1ZeBUt9NqT5CNpXI6WJIuTfC5Jf4vlMJTky0mOHslhcpL3JdnRYjkUSa5Ocn6SzS04dy+vsq/3JvnoyIdsK827nuQHSZ4wcqzsGCkiG1pwG7ht5Fj5Sy9KcmsL5rAhydtHtoWMbBvfb8H11L4k/5Bk1kgOC5P8a5K+FlxPfS3J40Zy6EnyF0m2t+C+8dMkz3h44RjtN1QXJ3nqyIYzqeLf9N+f5McjO8fDzUjytCTLRxbjVdWbxq8S/DiNn2V+uK6R7eGYhxxUqmhw5Nuaa0e+vfnEyKICOLCdSY4aOX4+beR/T6/wfPtHFppXJTnQQ5Hakzw5yeOTzK1wDsNJNiW5McloD5I6YeRLzfkjuVTVliS/GFlkHehs+aKRz89FFV9P7UnjjOiVI2uKh5uW5Okj66kpFc6hL8nakRwO9ETfzoesp46o+Hpq08h+ccCnt9YCZJSDxKaKFy44FN6Q5N/EAEBZHSKAAzq5TPk4emlywtFJ9wT/XquvP7njvmTl2oN7/9wjkieemEyd4OcJh4aT1euSm+8u98Drh5vcnZx1SjKnArV1/ebk+tuTgeZ3Bj5dAQFAAYFHb+FYfznviORzH0he+LRqTfriHyWv/4tk645y47s6k7/74+T/eVXSUaGLLG69J/nd9zT+LOtNv5n87buSmdOqk8PGrcn/8z+Tb1w25rBFDhcAjIdLsODALkjjBrIDLrp/9l/JE46r5sR/fkdyzquSwaHmYz/z/uQNF1Qzh207k9MuSB4s8Rsur39Z8tn/Wc0c6vXkBW9KLrlm1CFXJznXIQOAstpEAOPz6hdVt3wkjUupXvnC5uNOOLqx8K6q2TOTP3tj83Ed7cmH3lnhD4m25CPvtt8DoIDAY+ZZZ1V/js9+cvMxzzgzqdX8W5/0uMYleVV2yrHVuK8FAAUEJqQZ06o/xzL3McyYWv0cZk0/NFm1ShYAoIAAh03NHWQAgAICAAAoIAAAAAoIAACggAAAAAoIAACAAgIAACggAAAACggAAKCAAAAACggAAIACAgAAKCAAAAAKCAAAoIAAAAAKCAAAgAICAAAoIAAAAAoIAACggAAAAAoIAACAAgIAACggAAAACggAAKCAAAAACggAAIACAgAAKCAAAAAKCAAAoIAAAAAoIAAAgAICAAAoIAAAAAoIAACggAAAACggAACAAgIAACggAAAACggAAKCAAAAAKCAAAIACAgAAKCAAAAAKCAAAoIAAAAAoIAAAgAICAAAoIMDoiqL6c6zXD82YCZ9DcWjGtMo2AQAKCBwG6zZVf45rS8xx3eYWyGGj7SFJhoaTjVvt+wAoIPCY+Mr3zTFJvndVsnd/xXP4QfMx9z+Y3HhntXP4zo+Sfb32fQAUEHhMXHFd8s9fru78PvkfydU3Nh+3dUfy1r+p7qU5P7kp+cQXyo39g/clu/dWM4cNW5J3/K39HoBDp10EcECLk/zeaH/53R83FmZHLU1mz0xqtYk92Xo9ueO+5M8/mXzwwvLvu+UXyTU3J0ctSRbOTdor8JXGgxuTf/pio1T09ZdfpH/z8kYGyxYmXZ0TP4cdu5Mvfy/57Xc3MhnDrUm+5JABQFk1EcABHZPkXjFAU59K8jYxAFCWS7DgwO5TQKCU74kAAAUEDo2PiQDGdFeSS8QAwHi4BAtG15nkiiRPEQU8wmCSZye5ShQAjIczIDD2AuuPkwyIIgNJdoghRZL7xZAk+ZryAcDBcAYERjc5yQ1JjhMFHLCMXZDkm6IAYDycAYHRvVP5gFHVknw8SbcoABgPzwGB0RdX/5lkuihgVDOS3JLkTlEAUFaHCOCAjk+ypNmgzo7Gw+c6JniVHxpO1m9u/HlQba2WLJqXTKrAA/jWbyn/AMIDmTMrmT5l4uewfVeyc0+poc9N434QAFBA4FFYOtZfdnUm739b8ubfTGZMq8aEd+5J/teXkr/6p2RwqPz73nBB8r63JEsXVCOH/oHk65cm7/jbZMv28u97+pOSj747OePEauRQFMmPf568/UONJ96PYZnDBQDj4SZ0OLALMsq3urVactGnkhc9o5oT/8ZlyQVvLzf2z96YfODt1czhF6uSs3472VXiLMBzzk6++8+NM2JVs3d/8pTfSW69Z9QhVyc51yEDgLLchA7j9OJnVbd8JMnLnpO88GnNxy2Z3zjzUVWPX5G8+3XNx9Vqyf/6H9UsH0kydXLy8ffa7wFQQOAxU+Xy8UvnP7P5mOc/tXEpWqvncNyK5HFHVjuHpz8xmT7Vvg+AAgKPiblHVH+O82c3HzOvFXKYUyKH2dXPoa2tNf69AVBA4NdSrWaOLZPDIRpjuwcABQQAAFBAAAAABQQAAEABAQAAFBAAAAAFBAAAUEAAAAAFBAAAQAEBAAAUEAAAAAUEAABQQAAAAAUEAABAAQEAABQQAAAABQQAAFBAAAAABQQAAEABAQAAFBAAAAAFBAAAUEAAAAAFBAAAQAEBAAAUEAAAAAUEAABQQAAAABQQAABAAQEAABQQAAAABQQAAFBAAAAAFBAAAEABAQAAFBAAAAAFBAAAUEAAAAAUEAAAQAEBAAAUEAAAAAUEAABQQAAAABQQAABAAQEAABQQAAAABQQAAFBAgJZVFC0wx0M0xr83ACggcNC27qj+HDdvl0OSbJHDr8pHK8wTAAUEfi1998fmmCSXXpsMDcvhrpXJ6nXVzuGam5Ode+z7ACgg8Jj4+qXJZddWd37fuyq56IfNx61el3z4M9XNYfW65G9LzK9eT972gcafVdTXn7zjQ/Z7AA6ddhHAAS1P8jsH+ouiSL5+STJzenLKsUlHRzUm3NuXfPq/kj94XzI0VO49V1yX7NidPPHEZHJPNXKo15OLf5Rc8I5k87Zy77lnTXL97cmTTkpmz6zOTnDDHclvvqsxtzHcneQ/HDIAKKsmAjigk5Pc2mzQlJ7kqKVJV+fEnuzAYLLywWRf78G9v6M9OXZ50tM98cvHmvXJ9l0H/984akkya8bE3wE2bU3Wbio19DNJ/sAhAwAFBB6dtiRrkywUBYzplUm+LAYAxrPIAh6pnuRfxQBjWp/kYjEAMB7OgMDopiW5OclRooADelWSL4kBgPFwBgRGtyfJ7yYZFEUGkuwUQ4okq8SQJPmK8gHAwXAGBEbXnuQHSZ4tCniEviRPT3KdKAAYD2dAYHSvUz5gVN1p3CflcwSAcXEGBEZ3Z5LjxQBjel6SS8UAQFm+uYIDW6F8QCnniQCA8egQARzQ0c0GvOq85K2vSk4+Npk6eWJPdu/+5NZ7kk/+R/Ll743vvWc/IfmLNyVnnTLxnwLe15+sXJt8/qLkY59vPKCxrOWLk/e9JXneOcmCOUnbBP56Z2g4WbcpueiHyd/8S7Jl+6PbVwDgoVyCBQf2siRfH+0vP/InyZ+8rpoT/+CFyZ9/otzYVzw/+eJHGk9Cr5pLr0nO+8NkcKj52BOPSa7894lfwA5k9brkKa9O1m8edcjVSc51yACgLJdgwTjL+VNPr275SJL3/kFy5snNx82anvzrX1ezfCTJc89J3vLb5cZ+5v3VLB9J48zOx97jgACAAgKPmVe+sOLNq5b8dok5vuDcZMa0amfxqhJ3NyxfnDz51Grn8JJnJ5O77fsAKCDwmFi6oPpzPHKRHJJk2UI5JElXZ+O+FgBQQOCx2GnazDFJ2turn0N726EZU4ks2u37ACggAACAAgIAAKCAAAAACggAAKCAAAAAKCAAAIACAgAAoIAAAAAKCAAAoIAAAAAoIAAAgAICAACggAAAAAoIAACggAAAACggAACAAgIAAKCAAAAACggAAIACAgAAKCAAAIACAgAAoIAAAAAKCAAAgAICAAAoIAAAgAICAACggAAAAAoIAACAAgIAACggAACAAgIAAKCAAAAACggAAIACAgAAKCAAAIACAgAAoIAAAAAKCAAAgAICAAAoIAAAgAICAACggAAAAAoIAACAAgIAACggAACAAgIAAKCAwK+nPfuqP8dde5qP2b23BXIoMcfd+1pjuy+zTQCAAgKHwZXXt8Acf958zI9/7t86SW6/N9m+q9o53LUy2bzdvg+AAgKPiX+/qLEgq6rb7kn+4+Lm4269J/ni/6luDrv2JB+8sPm4gcHkL/+xujkURfLf/8F+D8Ch0y4COKCjk7zqQH8xNJxc9MPkiScmRy6q1qR/+LPkgnckO0tebvO9q5IFc5InHJfUatXJ4d41ycve3ji7Ucb1tyd79ydPPSPp7KhODtt3JW/+6+SrPxg7riSfd8gAoKyaCOCAzkjS9CKjJxyXnHxs0jNpYk92f19y6y8aZzUOxpGLkrNOSWZOm9g5DAwmK9cm19zUKJrjNWt68tTTk4VzJ3YO9SJZt6lxmd2+3qbDv5Dk9xwyAFBA4NHpTLI5yUxRwJjemORfxQBAWe4BgQMbTPJlMcCY9iT5phgAUEDg0Hh/kp1igFF9IMlWMQCggMChsT7JbyXpF0X6k2wTQ5JklQiSJF9L8hExAAAceuckWZ2kaNHX/UnOSrIkydUtnMPONG627knyuST1Fs1hMMmH41cUAQAOq+4kb05yaZINFV981kfmeEkaNxh3PSSHWpIXJ/lKkgeSDFR8sb0tyc+S/EWSOQ/bJp6Y5J+T3JNkf8Vz2Jvk9iT/kOQ4hwMAHo3/F3uog6aziq36AAAAJXRFWHRkYXRlOmNyZWF0ZQAyMDE4LTA3LTA1VDEyOjU1OjE3KzAwOjAwkH0iuQAAACV0RVh0ZGF0ZTptb2RpZnkAMjAxOC0wNy0wNVQxMjo1NToxNyswMDowMOEgmgUAAAAASUVORK5CYII=)"
      ],
      "metadata": {
        "id": "ZhyyBOwzgABg"
      }
    },
    {
      "cell_type": "markdown",
      "source": [
        "three directions, each with 4 planes\n",
        "\n",
        "x-y RED ARROWS\n",
        "\n",
        "y-z GREEN ARROWS\n",
        "\n",
        "x-z BLUE ARROWS\n",
        "\n",
        "![3d.png](data:image/png;base64,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)"
      ],
      "metadata": {
        "id": "InwZDSrfhk7j"
      }
    },
    {
      "cell_type": "code",
      "source": [
        "class Rubik():\n",
        "  def __init__(self):\n",
        "    self.linedim = 50 # how many px per row width or column height\n",
        "    self.side_shape = np.array((3,3))*self.linedim\n",
        "    self.side_h = np.zeros((self.side_shape), dtype=int)\n",
        "    self.side_f = np.zeros((self.side_shape), dtype=int) + 1\n",
        "    self.side_b = np.zeros((self.side_shape), dtype=int) + 2\n",
        "    self.side_t = np.zeros((self.side_shape), dtype=int) + 3\n",
        "    self.side_l = np.zeros((self.side_shape), dtype=int) + 4\n",
        "    self.side_r = np.zeros((self.side_shape), dtype=int) + 5\n",
        "\n",
        "    return\n",
        "\n",
        "  def rotation_yz(self, direction, col=None):\n",
        "    '''\n",
        "    direction -> 1 or -1\n",
        "    col -> 1,2 or 3\n",
        "    '''\n",
        "\n",
        "    affected_sides = np.array([self.side_h, self.side_t, self.side_f, self.side_b])\n",
        "    rot_tensor = np.stack(affected_sides)\n",
        "\n",
        "    from_col = (col-1)*self.linedim\n",
        "    to_col = col*self.linedim\n",
        "\n",
        "    rot_tensor[:, :, from_col:to_col] = np.roll(rot_tensor[:, :, from_col:to_col], direction, axis=0)\n",
        "    \n",
        "    self.side_h, self.side_t, self.side_f, self.side_b = rot_tensor\n",
        "\n",
        "\n",
        "    return\n",
        "\n",
        "  def rotation_xz(self, direction, row=None):\n",
        "    '''\n",
        "    direction -> 1 or -1\n",
        "    row -> 1,2 or 3\n",
        "    '''\n",
        "\n",
        "    affected_sides = np.array([self.side_f, self.side_r, self.side_h, self.side_l])\n",
        "    rot_tensor = np.stack(affected_sides)\n",
        "\n",
        "    from_row = (row-1)*self.linedim\n",
        "    to_row = row*self.linedim\n",
        "\n",
        "    rot_tensor[:,from_row:to_row, :] = np.roll(rot_tensor[:,from_row:to_row, :], direction, axis=0)\n",
        "    self.side_f, self.side_r, self.side_h, self.side_l = rot_tensor\n",
        "\n",
        "    return\n",
        "\n",
        "  def rotate_left(self, row=None):\n",
        "    '''\n",
        "    Rotate row of choice to the left (top row=1, middle=2, bottom=3)\n",
        "    If no row is chosen, the entire cube is rotated, the right side becomes\n",
        "    the front.\n",
        "    '''\n",
        "    if not row:\n",
        "      for i in [1,2,3]:\n",
        "        self.rotation_xz(direction=-1, row=i)\n",
        "        self.side_t = np.rot90(self.side_t,-1)\n",
        "        self.side_b = np.rot90(self.side_b,1)\n",
        "\n",
        "    else:\n",
        "      self.rotation_xz(direction=-1, row=row)\n",
        "      if row==1:\n",
        "        self.side_t = np.rot90(self.side_t,-1)\n",
        "      elif row==3:\n",
        "        self.side_b = np.rot90(self.side_b,1)\n",
        "\n",
        "    return\n",
        "\n",
        "  def rotate_right(self, row=None):\n",
        "    '''\n",
        "    Rotate row of choice to the right (top row=1, middle=2, bottom=3)\n",
        "    If no row is chosen, the entire cube is rotated, the left side becomes\n",
        "    the front.\n",
        "    '''\n",
        "    if not row:\n",
        "      for i in [1,2,3]:\n",
        "        self.rotation_xz(direction=1, row=i)\n",
        "        self.side_t = np.rot90(self.side_t,1)\n",
        "        self.side_b = np.rot90(self.side_b,-1)\n",
        "\n",
        "        self.side_f = np.rot90(self.side_f,1)\n",
        "        self.side_h = np.rot90(self.side_h,1)\n",
        "\n",
        "        self.side_l = np.rot90(self.side_l,1)\n",
        "        self.side_r = np.rot90(self.side_r,1)\n",
        "\n",
        "\n",
        "    else:\n",
        "      self.rotation_xz(direction=1, row=row)\n",
        "      if row==1:\n",
        "        self.side_t = np.rot90(self.side_t,1)\n",
        "      elif row==3:\n",
        "        self.side_b = np.rot90(self.side_b,-1)\n",
        "\n",
        "    return\n",
        "\n",
        "  def rotate_up(self, col=None):\n",
        "    '''\n",
        "    Rotate column of choice upwards (left column=1, middle=2, right=3)\n",
        "    If no column is chosen, the entire cube is rotated, the down side becomes\n",
        "    the front.\n",
        "    '''\n",
        "\n",
        "    if not col:\n",
        "      for i in [1,2,3]:\n",
        "        self.rotation_yz(direction=-1, col=i)\n",
        "        self.side_l = np.rot90(self.side_l, 1)\n",
        "        self.side_r = np.rot90(self.side_r, -1)\n",
        "\n",
        "    else:\n",
        "      self.rotation_yz(direction=-1, col=col)\n",
        "\n",
        "      if col == 1:\n",
        "        self.side_l = np.rot90(self.side_l, 1)\n",
        "      elif col== 3:\n",
        "        self.side_r = np.rot90(self.side_r, -1)\n",
        "\n",
        "    return\n",
        "\n",
        "  def rotate_down(self, col=None):\n",
        "    '''\n",
        "    Rotate column of choice downwards (left column=1, middle=2, right=3)\n",
        "    If no column is chosen, the entire cube is rotated, the upper side becomes\n",
        "    the front.\n",
        "    '''\n",
        "\n",
        "    if not col:\n",
        "      for i in [1,2,3]:\n",
        "        self.rotation_yz(direction=1, col=i)\n",
        "        self.side_l = np.rot90(self.side_l, -1)\n",
        "        self.side_r = np.rot90(self.side_r, 1)\n",
        "\n",
        "    else:\n",
        "      self.rotation_yz(direction=1, col=col)\n",
        "      if col == 1:\n",
        "        self.side_l = np.rot90(self.side_l, -1)\n",
        "      elif col== 3:\n",
        "        self.side_r = np.rot90(self.side_r, 1)\n",
        "\n",
        "    return\n",
        "\n",
        "\n",
        "  def visualize(self):\n",
        "    # white -> 0\n",
        "    # yellow -> 1\n",
        "    # orange -> 2\n",
        "    # red -> 3\n",
        "    # green -> 4\n",
        "    # blue -> 5\n",
        "    \n",
        "    empty = np.zeros_like(self.side_h) -1\n",
        "\n",
        "    first_row = np.hstack((empty, self.side_h, empty, empty))\n",
        "    second_row = np.hstack((self.side_l, self.side_t, self.side_r, self.side_b))\n",
        "    third_row = np.hstack((empty, self.side_f, empty, empty))\n",
        "    res = np.vstack((first_row, second_row, third_row))\n",
        "\n",
        "    res = self.convert_to_colors(res)\n",
        "\n",
        "    return res\n",
        "\n",
        "  def convert_to_colors(self, num_array):\n",
        "    # white  rgb(255,255,255)\n",
        "    #\tyellow rgb(255,255,0)\n",
        "    # orange rgb(255,165,0)\n",
        "    # red    rgb(255,0,0)\n",
        "    # green  rgb(0,255,0)\n",
        "    # blue   rgb(0,0,255)\n",
        "\n",
        "    layer_1 = num_array.copy()\n",
        "    layer_2 = num_array.copy()\n",
        "    layer_3 = num_array.copy()\n",
        "\n",
        "    white_mask = np.where(num_array==0)\n",
        "    yellow_mask = np.where(num_array==1)\n",
        "    orange_mask = np.where(num_array==2)\n",
        "    red_mask = np.where(num_array==3)\n",
        "    green_mask = np.where(num_array==4)\n",
        "    blue_mask = np.where(num_array==5)\n",
        "    black_mask = np.where(num_array==255)\n",
        "\n",
        "    # white\n",
        "    layer_1[white_mask] = layer_2[white_mask] = layer_3[white_mask] = 255\n",
        "\n",
        "    # yellow\n",
        "    layer_1[yellow_mask] = layer_2[yellow_mask] = 255\n",
        "    layer_3[yellow_mask] = 0\n",
        "\n",
        "    # orange\n",
        "    layer_1[orange_mask] = 255\n",
        "    layer_2[orange_mask] = 165\n",
        "    layer_3[orange_mask] = 0\n",
        "\n",
        "    # red\n",
        "    layer_1[red_mask] = 255\n",
        "    layer_2[red_mask] = layer_3[red_mask] = 0\n",
        "\n",
        "    # green\n",
        "    layer_1[green_mask] = layer_3[green_mask] = 0\n",
        "    layer_2[green_mask] = 255\n",
        "\n",
        "    # blue\n",
        "    layer_1[blue_mask] = layer_2[blue_mask] = 0\n",
        "    layer_3[blue_mask] = 255\n",
        "\n",
        "    \n",
        "    return np.stack((layer_3,layer_2,layer_1),axis=2)\n",
        "\n",
        "  def randomize(self, steps: int=2):\n",
        "\n",
        "    '''\n",
        "    performs random rotations in all directions\n",
        "    more steps = more rotations\n",
        "\n",
        "    returns a dictionary with keys describing the rotation parameters\n",
        "    and values produced by self.visualize()\n",
        "    '''\n",
        "    rnd_choices =(None, 1, 2, 3)\n",
        "    rot_log = {}\n",
        "\n",
        "    if steps > 10:\n",
        "      steps = 10\n",
        "    \n",
        "    for i in range(steps):\n",
        "\n",
        "      choice = np.random.choice(rnd_choices)\n",
        "      self.rotate_left(choice)\n",
        "      rot_log[str(i) + '_left: ' + str(choice)] = self.visualize()\n",
        "\n",
        "      choice = np.random.choice(rnd_choices)\n",
        "      self.rotate_right(choice)\n",
        "      rot_log[str(i) + '_right: ' + str(choice)] = self.visualize()\n",
        "\n",
        "      choice = np.random.choice(rnd_choices)\n",
        "      self.rotate_up(choice)\n",
        "      rot_log[str(i) + '_up: ' + str(choice)] = self.visualize()\n",
        "\n",
        "      choice = np.random.choice(rnd_choices)\n",
        "      self.rotate_down(choice)\n",
        "      rot_log[str(i) + '_down: ' + str(choice)] = self.visualize()\n",
        "\n",
        "    return rot_log\n",
        "\n"
      ],
      "metadata": {
        "id": "_I-x89DXilnC"
      },
      "execution_count": 6,
      "outputs": []
    },
    {
      "cell_type": "code",
      "source": [
        "import cv2\n",
        "from google.colab.patches import cv2_imshow"
      ],
      "metadata": {
        "id": "zTXkXcQCqeN6"
      },
      "execution_count": 7,
      "outputs": []
    },
    {
      "cell_type": "code",
      "source": [
        "rbk=Rubik()\n",
        "pic = rbk.visualize()\n",
        "cv2_imshow(pic)"
      ],
      "metadata": {
        "colab": {
          "base_uri": "https://localhost:8080/",
          "height": 467
        },
        "id": "O4kU7z6nvRDD",
        "outputId": "ef5ec015-d95c-4709-91a6-c2937a2e92d0"
      },
      "execution_count": 8,
      "outputs": [
        {
          "output_type": "display_data",
          "data": {
            "text/plain": [
              "<PIL.Image.Image image mode=RGB size=600x450 at 0x7F14402C5350>"
            ],
            "image/png": "[encoded data removed]"
          },
          "metadata": {}
        }
      ]
    },
    {
      "cell_type": "code",
      "source": [
        "rbk = Rubik()\n",
        "rbk.rotate_left(row=2)\n",
        "cv2_imshow(rbk.visualize())\n",
        "rbk.rotate_up(col=2)\n",
        "cv2_imshow(rbk.visualize())"
      ],
      "metadata": {
        "colab": {
          "base_uri": "https://localhost:8080/",
          "height": 917
        },
        "id": "yZCbe98w2Jw4",
        "outputId": "485ae4e6-e04f-4e11-a1e8-7c3e62b5fb54"
      },
      "execution_count": 10,
      "outputs": [
        {
          "output_type": "display_data",
          "data": {
            "text/plain": [
              "<PIL.Image.Image image mode=RGB size=600x450 at 0x7F1440279050>"
            ],
            "image/png": "[encoded data removed]"
          },
          "metadata": {}
        },
        {
          "output_type": "display_data",
          "data": {
            "text/plain": [
              "<PIL.Image.Image image mode=RGB size=600x450 at 0x7F1440279E90>"
            ],
            "image/png": "[encoded data removed]"
          },
          "metadata": {}
        }
      ]
    },
    {
      "cell_type": "code",
      "source": [
        "rbk.rotate_up(3)\n",
        "cv2_imshow(rbk.visualize())"
      ],
      "metadata": {
        "colab": {
          "base_uri": "https://localhost:8080/",
          "height": 467
        },
        "id": "GWyIqU7D7G6F",
        "outputId": "990e8b2e-3871-4a4f-961d-22574cade6ed"
      },
      "execution_count": null,
      "outputs": [
        {
          "output_type": "display_data",
          "data": {
            "text/plain": [
              "<PIL.Image.Image image mode=RGB size=600x450 at 0x7FD2A5A2B910>"
            ],
            "image/png": "[encoded data removed]"
          },
          "metadata": {}
        }
      ]
    },
    {
      "cell_type": "code",
      "source": [
        "rot_log = rbk.randomize()\n",
        "for k,v in rot_log.items():\n",
        "  print(k)\n",
        "  cv2_imshow(v)"
      ],
      "metadata": {
        "id": "emJqaj5dBCzB",
        "colab": {
          "base_uri": "https://localhost:8080/",
          "height": 1000
        },
        "outputId": "bbd6e2dc-5ef5-42d9-8d6d-b1ea6eac9ffc"
      },
      "execution_count": null,
      "outputs": [
        {
          "output_type": "stream",
          "name": "stdout",
          "text": [
            "0_left: 3\n"
          ]
        },
        {
          "output_type": "display_data",
          "data": {
            "text/plain": [
              "<PIL.Image.Image image mode=RGB size=600x450 at 0x7FD2A5A0FD50>"
            ],
            "image/png": "[encoded data removed]"
          },
          "metadata": {}
        },
        {
          "output_type": "stream",
          "name": "stdout",
          "text": [
            "0_right: 2\n"
          ]
        },
        {
          "output_type": "display_data",
          "data": {
            "text/plain": [
              "<PIL.Image.Image image mode=RGB size=600x450 at 0x7FD2A5A0F510>"
            ],
            "image/png": "[encoded data removed]"
          },
          "metadata": {}
        },
        {
          "output_type": "stream",
          "name": "stdout",
          "text": [
            "0_up: None\n"
          ]
        },
        {
          "output_type": "display_data",
          "data": {
            "text/plain": [
              "<PIL.Image.Image image mode=RGB size=600x450 at 0x7FD2A5A0FB10>"
            ],
            "image/png": "[encoded data removed]"
          },
          "metadata": {}
        },
        {
          "output_type": "stream",
          "name": "stdout",
          "text": [
            "0_down: 2\n"
          ]
        },
        {
          "output_type": "display_data",
          "data": {
            "text/plain": [
              "<PIL.Image.Image image mode=RGB size=600x450 at 0x7FD2A5A0F150>"
            ],
            "image/png": "[encoded data removed]"
          },
          "metadata": {}
        },
        {
          "output_type": "stream",
          "name": "stdout",
          "text": [
            "1_left: 3\n"
          ]
        },
        {
          "output_type": "display_data",
          "data": {
            "text/plain": [
              "<PIL.Image.Image image mode=RGB size=600x450 at 0x7FD2A5A0F050>"
            ],
            "image/png": "[encoded data removed]"
          },
          "metadata": {}
        },
        {
          "output_type": "stream",
          "name": "stdout",
          "text": [
            "1_right: 1\n"
          ]
        },
        {
          "output_type": "display_data",
          "data": {
            "text/plain": [
              "<PIL.Image.Image image mode=RGB size=600x450 at 0x7FD2A5A0F9D0>"
            ],
            "image/png": "[encoded data removed]"
          },
          "metadata": {}
        },
        {
          "output_type": "stream",
          "name": "stdout",
          "text": [
            "1_up: None\n"
          ]
        },
        {
          "output_type": "display_data",
          "data": {
            "text/plain": [
              "<PIL.Image.Image image mode=RGB size=600x450 at 0x7FD2A5A0F950>"
            ],
            "image/png": "[encoded data removed]"
          },
          "metadata": {}
        },
        {
          "output_type": "stream",
          "name": "stdout",
          "text": [
            "1_down: None\n"
          ]
        },
        {
          "output_type": "display_data",
          "data": {
            "text/plain": [
              "<PIL.Image.Image image mode=RGB size=600x450 at 0x7FD2A5A0FF90>"
            ],
            "image/png": "[encoded data removed]"
          },
          "metadata": {}
        }
      ]
    },
    {
      "cell_type": "code",
      "source": [
        "front = np.array([[1,2,3],[4,5,6],[7,8,9]])\n",
        "back = front*-1\n",
        "\n",
        "left = np.array([[1,1,1],[2,2,2],[3,3,3]])\n",
        "right = left*-1\n"
      ],
      "metadata": {
        "id": "OVXxMxNc4JMi"
      },
      "execution_count": 26,
      "outputs": []
    },
    {
      "cell_type": "code",
      "source": [
        "class NewRubik():\n",
        "  def __init__(self):\n",
        "    self.linedim = 50 # how many px per row width or column height\n",
        "    self.side_shape = np.array((3,3))*self.linedim\n",
        "    self.hind = np.zeros(self.side_shape)\n",
        "    self.front = self.hind + 1\n",
        "    self.bot = self.front + 1\n",
        "    self.top = self.bot + 1\n",
        "    self.left = self.top + 1\n",
        "    self.right = self.left + 1\n",
        "\n",
        "  def visualize(self):\n",
        "    # white -> 0\n",
        "    # yellow -> 1\n",
        "    # orange -> 2\n",
        "    # red -> 3\n",
        "    # green -> 4\n",
        "    # blue -> 5\n",
        "  \n",
        "    empty = np.zeros_like(self.hind) -1\n",
        "\n",
        "    first_row = np.hstack((empty, self.hind, empty, empty))\n",
        "    second_row = np.hstack((self.left, self.top, self.right, self.bot))\n",
        "    third_row = np.hstack((empty, self.front, empty, empty))\n",
        "    res = np.vstack((first_row, second_row, third_row))\n",
        "\n",
        "    res = self.convert_to_colors(res)\n",
        "\n",
        "    return res\n",
        "\n",
        "  def convert_to_colors(self, num_array):\n",
        "    # white  rgb(255,255,255)\n",
        "    #\tyellow rgb(255,255,0)\n",
        "    # orange rgb(255,165,0)\n",
        "    # red    rgb(255,0,0)\n",
        "    # green  rgb(0,255,0)\n",
        "    # blue   rgb(0,0,255)\n",
        "\n",
        "    layer_1 = num_array.copy()\n",
        "    layer_2 = num_array.copy()\n",
        "    layer_3 = num_array.copy()\n",
        "\n",
        "    white_mask = np.where(num_array==0)\n",
        "    yellow_mask = np.where(num_array==1)\n",
        "    orange_mask = np.where(num_array==2)\n",
        "    red_mask = np.where(num_array==3)\n",
        "    green_mask = np.where(num_array==4)\n",
        "    blue_mask = np.where(num_array==5)\n",
        "    black_mask = np.where(num_array==255)\n",
        "\n",
        "    # white\n",
        "    layer_1[white_mask] = layer_2[white_mask] = layer_3[white_mask] = 255\n",
        "\n",
        "    # yellow\n",
        "    layer_1[yellow_mask] = layer_2[yellow_mask] = 255\n",
        "    layer_3[yellow_mask] = 0\n",
        "\n",
        "    # orange\n",
        "    layer_1[orange_mask] = 255\n",
        "    layer_2[orange_mask] = 165\n",
        "    layer_3[orange_mask] = 0\n",
        "\n",
        "    # red\n",
        "    layer_1[red_mask] = 255\n",
        "    layer_2[red_mask] = layer_3[red_mask] = 0\n",
        "\n",
        "    # green\n",
        "    layer_1[green_mask] = layer_3[green_mask] = 0\n",
        "    layer_2[green_mask] = 255\n",
        "\n",
        "    # blue\n",
        "    layer_1[blue_mask] = layer_2[blue_mask] = 0\n",
        "    layer_3[blue_mask] = 255\n",
        "\n",
        "    \n",
        "    return np.stack((layer_3,layer_2,layer_1),axis=2)\n",
        "\n",
        "\n",
        "  def rotate_X(self, row=None, direction=1):\n",
        "    '''\n",
        "    Chains all involved sides together and switches values between them\n",
        "    based on the specified direction and rows\n",
        "    '''\n",
        "\n",
        "    self.prepare_for_X_rotation()\n",
        "\n",
        "    chained_sides = np.array([self.front, self.right, self.hind, self.left])\n",
        "    \n",
        "    if row:\n",
        "      from_row = self.linedim * (row-1)\n",
        "      to_row = self.linedim * row\n",
        "    \n",
        "    else:\n",
        "      from_row = 0\n",
        "      to_row = None\n",
        "\n",
        "    # this is where the magic happens\n",
        "    chained_sides[:,from_row:to_row,:] = np.roll(chained_sides,direction,0)[:,from_row:to_row,:]\n",
        "    \n",
        "    self.front, self.right, self.hind, self.left = chained_sides\n",
        "    self.revert_preparation_for_X_rotation()\n",
        "\n",
        "    self.ministry_of_spatial_relations(axis='X', direction=direction, row=row)\n",
        "\n",
        "\n",
        "  def rotate_Y(self, col=None, direction=1):\n",
        "    '''\n",
        "    Chains all involved sides together and switches values between them\n",
        "    based on the specified direction and columns\n",
        "    '''\n",
        "\n",
        "    self.prepare_for_Y_rotation()\n",
        "\n",
        "    chained_sides = np.array([self.front, self.top, self.hind, self.bot])\n",
        "    \n",
        "    if col:\n",
        "      from_col = self.linedim * (col-1)\n",
        "      to_col = self.linedim * col\n",
        "    \n",
        "    else:\n",
        "      from_col = 0\n",
        "      to_col = None\n",
        "\n",
        "    # this is where the magic happens\n",
        "    chained_sides[:,:,from_col:to_col] = np.roll(chained_sides,direction,0)[:,:,from_col:to_col]\n",
        "    \n",
        "    self.front, self.top, self.hind, self.bot = chained_sides\n",
        "    self.revert_preparation_for_Y_rotation()\n",
        "\n",
        "    self.ministry_of_spatial_relations(axis='Y', direction=direction, col=col)\n",
        "\n",
        "  def ministry_of_spatial_relations(self, axis, direction, row=None, col=None):\n",
        "    ''' \n",
        "    takes care of the relations between sides in the 3d form\n",
        "    for example, when a top row is rotated on the FRONT side, it not only\n",
        "    rotates the top row on RIGHT, HIND and LEFT side, but also rotates the\n",
        "    entire TOP side itself\n",
        "    '''\n",
        "\n",
        "    if axis == 'X':\n",
        "      if row == 1:\n",
        "        # top row rotates the TOP side\n",
        "        self.top = np.rot90(self.top, direction)\n",
        "\n",
        "      elif row == 3:\n",
        "        # bottom row rotates the BOT side\n",
        "        self.bot = np.rot90(self.bot, -direction)\n",
        "\n",
        "      elif not row:\n",
        "        # both TOP and BOT sides rotate if all rows do\n",
        "        self.top = np.rot90(self.top, direction)\n",
        "        self.bot = np.rot90(self.bot, -direction)\n",
        "\n",
        "    elif axis == 'Y':\n",
        "      if col == 1:\n",
        "        # left column rotates the LEFT side\n",
        "        self.left = np.rot90(self.left, direction)\n",
        "\n",
        "      elif col == 3:\n",
        "        # right column rotates the RIGHT side\n",
        "        self.right = np.rot90(self.right, -direction)\n",
        "\n",
        "      elif not row:\n",
        "        # bot LEFT and RIGHT sides rotate if all columns do\n",
        "        self.left = np.rot90(self.left, direction)\n",
        "        self.right = np.rot90(self.right, -direction)\n",
        "    \n",
        "    return\n",
        "\n",
        "  def rotate_right(self, row=None):\n",
        "    '''\n",
        "    Wrapper for \"rotate_X\" function, with determined direction\n",
        "\n",
        "    Row -> {1, 2, 3, None}\n",
        "    1 being the topmost, 2 in the middle, 3 on the bottom\n",
        "\n",
        "    If not specified, defaults to None and rotates all 3 rows\n",
        "    \n",
        "    '''\n",
        "    self.rotate_X(row=row, direction=1)\n",
        "\n",
        "  def rotate_left(self, row=None):\n",
        "    '''\n",
        "    Wrapper for \"rotate_X\" function, with determined direction\n",
        "\n",
        "    Row -> {1, 2, 3, None}\n",
        "    1 being the topmost, 2 in the middle, 3 on the bottom\n",
        "\n",
        "    If not specified, defaults to None and rotates all 3 rows\n",
        "    '''\n",
        "    self.rotate_X(row=row, direction=-1)\n",
        "\n",
        "\n",
        "  def rotate_up(self, col=None):\n",
        "    '''\n",
        "    Wrapper for \"rotate_Y\" function, with determined direction\n",
        "\n",
        "    Col -> {1, 2, 3, None}\n",
        "    1 being the leftmost, 2 in the middle, 3 on the right\n",
        "\n",
        "    If not specified, defaults to None and rotates all 3 columns\n",
        "    '''\n",
        "    self.rotate_Y(col=col, direction=1)\n",
        "\n",
        "\n",
        "  def rotate_down(self, col=None):\n",
        "    '''\n",
        "    Wrapper for \"rotate_Y\" function, with determined direction\n",
        "\n",
        "    Col -> {1, 2, 3, None}\n",
        "    1 being the leftmost, 2 in the middle, 3 on the right\n",
        "\n",
        "    If not specified, defaults to None and rotates all 3 columns\n",
        "    '''\n",
        "    self.rotate_Y(col=col, direction=-1)\n",
        "\n",
        "  def prepare_for_X_rotation(self):\n",
        "    '''\n",
        "    visualized arrays are rotated according to their position relative\n",
        "    to the TOP side, so they're in need of \"arranging\"\n",
        "\n",
        "    for example, when looking at the flattened cube, on the LEFT side \n",
        "    the topmost line is visualized as being the rightmost (that side\n",
        "    is the one closest to the TOP side, and furthest from the BOT side)\n",
        "\n",
        "    so a rotation of 90 degrees counter clockwise is needed to get\n",
        "    the topmost line at the actual top of the numpy matrix.\n",
        "\n",
        "    this is needed only for ease of working with matrices, and is reverted\n",
        "    later on\n",
        "    '''\n",
        "\n",
        "    self.right = np.rot90(self.right,-1)\n",
        "    self.left = np.rot90(self.left,1)\n",
        "    self.hind = np.rot90(self.hind,-2)\n",
        "  \n",
        "  def revert_preparation_for_X_rotation(self):\n",
        "    '''\n",
        "    undo the \"allignment\" done by the \"prepare_for_X_rotation\" function\n",
        "    \n",
        "    '''\n",
        "    self.right = np.rot90(self.right,1)\n",
        "    self.left = np.rot90(self.left,-1)\n",
        "    self.hind = np.rot90(self.hind,2)\n",
        "\n",
        "\n",
        "  \n",
        "  def prepare_for_Y_rotation(self):\n",
        "    '''\n",
        "    visualized arrays are rotated according to their position relative\n",
        "    to the TOP side, so they're in need of \"arranging\"\n",
        "\n",
        "    for example, when looking at the flattened cube, on the HIND side \n",
        "    the topmost line is visualized as being the downmost (that side\n",
        "    is the one closest to the TOP side, and furthest from the BOT side)\n",
        "\n",
        "    so a rotation of 180 degrees is needed to get\n",
        "    the topmost line at the actual top of the numpy matrix.\n",
        "\n",
        "    this is needed only for ease of working with matrices, and is reverted\n",
        "    later on\n",
        "    '''\n",
        "    self.bot = np.rot90(self.bot, 2)\n",
        "\n",
        "\n",
        "  def revert_preparation_for_Y_rotation(self):\n",
        "    '''\n",
        "    undo the \"allignment\" done by the \"prepare_for_Y_rotation\" function\n",
        "    \n",
        "    '''\n",
        "    self.bot = np.rot90(self.bot, -2)\n"
      ],
      "metadata": {
        "id": "0VHmKukpDiVZ"
      },
      "execution_count": 236,
      "outputs": []
    },
    {
      "cell_type": "code",
      "source": [
        "cube = NewRubik()\n",
        "cv2_imshow(cube.visualize())\n",
        "\n",
        "print()\n",
        "\n",
        "cube.rotate_left(1)\n",
        "cv2_imshow(cube.visualize())\n"
      ],
      "metadata": {
        "id": "lzlh_yFSESje",
        "outputId": "6ffb0616-0aea-4583-86ce-5e16682e43bf",
        "colab": {
          "base_uri": "https://localhost:8080/",
          "height": 935
        }
      },
      "execution_count": 237,
      "outputs": [
        {
          "output_type": "display_data",
          "data": {
            "text/plain": [
              "<PIL.Image.Image image mode=RGB size=600x450 at 0x7F143423C790>"
            ],
            "image/png": "[encoded data removed]"
          },
          "metadata": {}
        },
        {
          "output_type": "stream",
          "name": "stdout",
          "text": [
            "\n"
          ]
        },
        {
          "output_type": "display_data",
          "data": {
            "text/plain": [
              "<PIL.Image.Image image mode=RGB size=600x450 at 0x7F143423C150>"
            ],
            "image/png": "[encoded data removed]"
          },
          "metadata": {}
        }
      ]
    },
    {
      "cell_type": "code",
      "source": [
        "cube.rotate_up(1)\n",
        "cv2_imshow(cube.visualize())"
      ],
      "metadata": {
        "id": "Vzq-3YQbjKc1",
        "outputId": "52739331-d42e-43bd-a097-f256e0af2b16",
        "colab": {
          "base_uri": "https://localhost:8080/",
          "height": 467
        }
      },
      "execution_count": 238,
      "outputs": [
        {
          "output_type": "display_data",
          "data": {
            "text/plain": [
              "<PIL.Image.Image image mode=RGB size=600x450 at 0x7F14342CD990>"
            ],
            "image/png": "[encoded data removed]"
          },
          "metadata": {}
        }
      ]
    },
    {
      "cell_type": "code",
      "source": [
        ""
      ],
      "metadata": {
        "id": "9VE5tpa5jPln"
      },
      "execution_count": 238,
      "outputs": []
    }
  ]
}